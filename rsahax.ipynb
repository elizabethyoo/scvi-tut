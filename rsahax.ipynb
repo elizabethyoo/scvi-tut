{
 "cells": [
  {
   "cell_type": "code",
   "execution_count": 1,
   "metadata": {},
   "outputs": [],
   "source": [
    "import scvi\n",
    "import scanpy as sc"
   ]
  },
  {
   "cell_type": "code",
   "execution_count": 2,
   "metadata": {},
   "outputs": [
    {
     "name": "stdout",
     "output_type": "stream",
     "text": [
      "\u001b[34mINFO    \u001b[0m Downloading file at data/pbmc_10k_protein_v3.h5ad                                   \n",
      "Downloading...: 24938it [00:00, 29001.53it/s]                             \n",
      "\u001b[34mINFO    \u001b[0m Downloading file at data/pbmc_5k_protein_v3.h5ad                                    \n",
      "Downloading...: 100%|██████████| 18295/18295.0 [00:00<00:00, 28708.67it/s]\n"
     ]
    },
    {
     "name": "stderr",
     "output_type": "stream",
     "text": [
      "Observation names are not unique. To make them unique, call `.obs_names_make_unique`.\n"
     ]
    }
   ],
   "source": [
    "adata = scvi.data.pbmcs_10x_cite_seq(run_setup_anndata=False)"
   ]
  },
  {
   "cell_type": "code",
   "execution_count": 17,
   "metadata": {},
   "outputs": [],
   "source": [
    "import scvi"
   ]
  },
  {
   "cell_type": "code",
   "execution_count": 3,
   "metadata": {},
   "outputs": [
    {
     "name": "stderr",
     "output_type": "stream",
     "text": [
      "Observation names are not unique. To make them unique, call `.obs_names_make_unique`.\n",
      "Observation names are not unique. To make them unique, call `.obs_names_make_unique`.\n"
     ]
    }
   ],
   "source": [
    "sc.pp.filter_genes(adata, min_counts=3)"
   ]
  },
  {
   "cell_type": "code",
   "execution_count": 4,
   "metadata": {},
   "outputs": [],
   "source": [
    "adata.layers[\"counts\"] = adata.X.copy() # preserve counts \n",
    "sc.pp.normalize_total (adata, target_sum = 1e4)\n",
    "sc.pp.log1p(adata)\n",
    "adata.raw = adata "
   ]
  },
  {
   "cell_type": "code",
   "execution_count": 5,
   "metadata": {},
   "outputs": [
    {
     "name": "stderr",
     "output_type": "stream",
     "text": [
      "Observation names are not unique. To make them unique, call `.obs_names_make_unique`.\n",
      "Observation names are not unique. To make them unique, call `.obs_names_make_unique`.\n"
     ]
    }
   ],
   "source": [
    "sc.pp.highly_variable_genes(\n",
    "    adata,\n",
    "    n_top_genes=2000,\n",
    "    subset=True,\n",
    "    layer=\"counts\",\n",
    "    flavor=\"seurat_v3\"\n",
    ")"
   ]
  },
  {
   "cell_type": "code",
   "execution_count": 6,
   "metadata": {},
   "outputs": [
    {
     "name": "stdout",
     "output_type": "stream",
     "text": [
      "\u001b[34mINFO    \u001b[0m No batch_key inputted, assuming all cells are same batch                            \n",
      "\u001b[34mINFO    \u001b[0m No label_key inputted, assuming all cells have same label                           \n",
      "\u001b[34mINFO    \u001b[0m Using data from adata.layers\u001b[1m[\u001b[0m\u001b[32m\"counts\"\u001b[0m\u001b[1m]\u001b[0m                                              \n",
      "\u001b[34mINFO    \u001b[0m Computing library size prior per batch                                              \n",
      "\u001b[34mINFO    \u001b[0m Successfully registered anndata object containing \u001b[1;34m10849\u001b[0m cells, \u001b[1;34m2000\u001b[0m vars, \u001b[1;34m1\u001b[0m batches,\n",
      "         \u001b[1;34m1\u001b[0m labels, and \u001b[1;34m0\u001b[0m proteins. Also registered \u001b[1;34m0\u001b[0m extra categorical covariates and \u001b[1;34m0\u001b[0m extra\n",
      "         continuous covariates.                                                              \n",
      "\u001b[34mINFO    \u001b[0m Please do not further modify adata until model is trained.                          \n"
     ]
    }
   ],
   "source": [
    "scvi.data.setup_anndata(adata, layer=\"counts\")"
   ]
  },
  {
   "cell_type": "code",
   "execution_count": 7,
   "metadata": {},
   "outputs": [
    {
     "name": "stderr",
     "output_type": "stream",
     "text": [
      "/home/rsaha/.local/lib/python3.8/site-packages/torch/cuda/__init__.py:52: UserWarning: CUDA initialization: Found no NVIDIA driver on your system. Please check that you have an NVIDIA GPU and installed a driver from http://www.nvidia.com/Download/index.aspx (Triggered internally at  /pytorch/c10/cuda/CUDAFunctions.cpp:100.)\n",
      "  return torch._C._cuda_getDeviceCount() > 0\n"
     ]
    }
   ],
   "source": [
    "model = scvi.model.SCVI(adata)"
   ]
  },
  {
   "cell_type": "code",
   "execution_count": 8,
   "metadata": {},
   "outputs": [
    {
     "data": {
      "text/html": [
       "<pre style=\"white-space:pre;overflow-x:auto;line-height:normal;font-family:Menlo,'DejaVu Sans Mono',consolas,'Courier New',monospace\">SCVI Model with the following params: \n",
       "n_hidden: <span style=\"color: #000080; font-weight: bold\">128</span>, n_latent: <span style=\"color: #000080; font-weight: bold\">10</span>, n_layers: <span style=\"color: #000080; font-weight: bold\">1</span>, dropout_rate: <span style=\"color: #000080; font-weight: bold\">0.1</span>, dispersion: gene, \n",
       "gene_likelihood: zinb, latent_distribution: normal\n",
       "Training status: Not Trained\n",
       "</pre>\n"
      ],
      "text/plain": [
       "<rich.jupyter.JupyterRenderable at 0x7fdb237b15e0>"
      ]
     },
     "metadata": {},
     "output_type": "display_data"
    },
    {
     "data": {
      "text/html": [
       "<pre style=\"white-space:pre;overflow-x:auto;line-height:normal;font-family:Menlo,'DejaVu Sans Mono',consolas,'Courier New',monospace\">\n",
       "\n",
       "To print summary of associated AnnData, use: <span style=\"color: #af00d7\">scvi.data.view_anndata_setup(model.adata)</span>\n",
       "</pre>\n"
      ],
      "text/plain": [
       "<rich.jupyter.JupyterRenderable at 0x7fdb238ced60>"
      ]
     },
     "metadata": {},
     "output_type": "display_data"
    },
    {
     "data": {
      "text/plain": []
     },
     "execution_count": 8,
     "metadata": {},
     "output_type": "execute_result"
    }
   ],
   "source": [
    "model"
   ]
  },
  {
   "cell_type": "code",
   "execution_count": 9,
   "metadata": {},
   "outputs": [
    {
     "name": "stdout",
     "output_type": "stream",
     "text": [
      "\u001b[34mINFO    \u001b[0m Training for \u001b[1;34m400\u001b[0m epochs                                                             \n",
      "\u001b[34mINFO    \u001b[0m KL warmup for \u001b[1;34m400\u001b[0m epochs                                                            \n",
      "Training...: 100%|██████████| 400/400 [19:32<00:00,  2.93s/it]\n",
      "\u001b[34mINFO    \u001b[0m Training time:  \u001b[1;34m1172\u001b[0m s. \u001b[35m/\u001b[0m \u001b[1;34m400\u001b[0m epochs                                                \n"
     ]
    }
   ],
   "source": [
    "model.train()"
   ]
  },
  {
   "cell_type": "code",
   "execution_count": 10,
   "metadata": {},
   "outputs": [],
   "source": [
    "model.save(\"my_model/\")"
   ]
  },
  {
   "cell_type": "code",
   "execution_count": 11,
   "metadata": {},
   "outputs": [],
   "source": [
    "latent = model.get_latent_representation()"
   ]
  },
  {
   "cell_type": "code",
   "execution_count": 12,
   "metadata": {},
   "outputs": [],
   "source": [
    "adata.obsm[\"X_scVI\"] = latent"
   ]
  },
  {
   "cell_type": "code",
   "execution_count": 15,
   "metadata": {},
   "outputs": [
    {
     "data": {
      "text/html": [
       "<div>\n",
       "<style scoped>\n",
       "    .dataframe tbody tr th:only-of-type {\n",
       "        vertical-align: middle;\n",
       "    }\n",
       "\n",
       "    .dataframe tbody tr th {\n",
       "        vertical-align: top;\n",
       "    }\n",
       "\n",
       "    .dataframe thead th {\n",
       "        text-align: right;\n",
       "    }\n",
       "</style>\n",
       "<table border=\"1\" class=\"dataframe\">\n",
       "  <thead>\n",
       "    <tr style=\"text-align: right;\">\n",
       "      <th></th>\n",
       "      <th>n_genes</th>\n",
       "      <th>percent_mito</th>\n",
       "      <th>n_counts</th>\n",
       "      <th>batch</th>\n",
       "      <th>_scvi_batch</th>\n",
       "      <th>_scvi_labels</th>\n",
       "      <th>_scvi_local_l_mean</th>\n",
       "      <th>_scvi_local_l_var</th>\n",
       "    </tr>\n",
       "    <tr>\n",
       "      <th>index</th>\n",
       "      <th></th>\n",
       "      <th></th>\n",
       "      <th></th>\n",
       "      <th></th>\n",
       "      <th></th>\n",
       "      <th></th>\n",
       "      <th></th>\n",
       "      <th></th>\n",
       "    </tr>\n",
       "  </thead>\n",
       "  <tbody>\n",
       "    <tr>\n",
       "      <th>AAACCCAAGATTGTGA-1</th>\n",
       "      <td>2194</td>\n",
       "      <td>0.084903</td>\n",
       "      <td>6160.0</td>\n",
       "      <td>PBMC10k</td>\n",
       "      <td>0</td>\n",
       "      <td>0</td>\n",
       "      <td>6.824571</td>\n",
       "      <td>0.670148</td>\n",
       "    </tr>\n",
       "    <tr>\n",
       "      <th>AAACCCACATCGGTTA-1</th>\n",
       "      <td>2093</td>\n",
       "      <td>0.061820</td>\n",
       "      <td>6713.0</td>\n",
       "      <td>PBMC10k</td>\n",
       "      <td>0</td>\n",
       "      <td>0</td>\n",
       "      <td>6.824571</td>\n",
       "      <td>0.670148</td>\n",
       "    </tr>\n",
       "    <tr>\n",
       "      <th>AAACCCAGTACCGCGT-1</th>\n",
       "      <td>1518</td>\n",
       "      <td>0.078911</td>\n",
       "      <td>3637.0</td>\n",
       "      <td>PBMC10k</td>\n",
       "      <td>0</td>\n",
       "      <td>0</td>\n",
       "      <td>6.824571</td>\n",
       "      <td>0.670148</td>\n",
       "    </tr>\n",
       "    <tr>\n",
       "      <th>AAACCCAGTATCGAAA-1</th>\n",
       "      <td>737</td>\n",
       "      <td>0.088424</td>\n",
       "      <td>1244.0</td>\n",
       "      <td>PBMC10k</td>\n",
       "      <td>0</td>\n",
       "      <td>0</td>\n",
       "      <td>6.824571</td>\n",
       "      <td>0.670148</td>\n",
       "    </tr>\n",
       "    <tr>\n",
       "      <th>AAACCCAGTCGTCATA-1</th>\n",
       "      <td>1240</td>\n",
       "      <td>0.059747</td>\n",
       "      <td>2611.0</td>\n",
       "      <td>PBMC10k</td>\n",
       "      <td>0</td>\n",
       "      <td>0</td>\n",
       "      <td>6.824571</td>\n",
       "      <td>0.670148</td>\n",
       "    </tr>\n",
       "    <tr>\n",
       "      <th>...</th>\n",
       "      <td>...</td>\n",
       "      <td>...</td>\n",
       "      <td>...</td>\n",
       "      <td>...</td>\n",
       "      <td>...</td>\n",
       "      <td>...</td>\n",
       "      <td>...</td>\n",
       "      <td>...</td>\n",
       "    </tr>\n",
       "    <tr>\n",
       "      <th>TTTGGTTGTACGAGTG-1</th>\n",
       "      <td>1450</td>\n",
       "      <td>0.064818</td>\n",
       "      <td>5662.0</td>\n",
       "      <td>PBMC5k</td>\n",
       "      <td>0</td>\n",
       "      <td>0</td>\n",
       "      <td>6.824571</td>\n",
       "      <td>0.670148</td>\n",
       "    </tr>\n",
       "    <tr>\n",
       "      <th>TTTGTTGAGTTAACAG-1</th>\n",
       "      <td>3065</td>\n",
       "      <td>0.087742</td>\n",
       "      <td>10189.0</td>\n",
       "      <td>PBMC5k</td>\n",
       "      <td>0</td>\n",
       "      <td>0</td>\n",
       "      <td>6.824571</td>\n",
       "      <td>0.670148</td>\n",
       "    </tr>\n",
       "    <tr>\n",
       "      <th>TTTGTTGCAGCACAAG-1</th>\n",
       "      <td>1641</td>\n",
       "      <td>0.098523</td>\n",
       "      <td>4740.0</td>\n",
       "      <td>PBMC5k</td>\n",
       "      <td>0</td>\n",
       "      <td>0</td>\n",
       "      <td>6.824571</td>\n",
       "      <td>0.670148</td>\n",
       "    </tr>\n",
       "    <tr>\n",
       "      <th>TTTGTTGCAGTCTTCC-1</th>\n",
       "      <td>1900</td>\n",
       "      <td>0.086854</td>\n",
       "      <td>6367.0</td>\n",
       "      <td>PBMC5k</td>\n",
       "      <td>0</td>\n",
       "      <td>0</td>\n",
       "      <td>6.824571</td>\n",
       "      <td>0.670148</td>\n",
       "    </tr>\n",
       "    <tr>\n",
       "      <th>TTTGTTGCATTGCCGG-1</th>\n",
       "      <td>3442</td>\n",
       "      <td>0.105349</td>\n",
       "      <td>12207.0</td>\n",
       "      <td>PBMC5k</td>\n",
       "      <td>0</td>\n",
       "      <td>0</td>\n",
       "      <td>6.824571</td>\n",
       "      <td>0.670148</td>\n",
       "    </tr>\n",
       "  </tbody>\n",
       "</table>\n",
       "<p>10849 rows × 8 columns</p>\n",
       "</div>"
      ],
      "text/plain": [
       "                    n_genes  percent_mito  n_counts    batch  _scvi_batch  \\\n",
       "index                                                                       \n",
       "AAACCCAAGATTGTGA-1     2194      0.084903    6160.0  PBMC10k            0   \n",
       "AAACCCACATCGGTTA-1     2093      0.061820    6713.0  PBMC10k            0   \n",
       "AAACCCAGTACCGCGT-1     1518      0.078911    3637.0  PBMC10k            0   \n",
       "AAACCCAGTATCGAAA-1      737      0.088424    1244.0  PBMC10k            0   \n",
       "AAACCCAGTCGTCATA-1     1240      0.059747    2611.0  PBMC10k            0   \n",
       "...                     ...           ...       ...      ...          ...   \n",
       "TTTGGTTGTACGAGTG-1     1450      0.064818    5662.0   PBMC5k            0   \n",
       "TTTGTTGAGTTAACAG-1     3065      0.087742   10189.0   PBMC5k            0   \n",
       "TTTGTTGCAGCACAAG-1     1641      0.098523    4740.0   PBMC5k            0   \n",
       "TTTGTTGCAGTCTTCC-1     1900      0.086854    6367.0   PBMC5k            0   \n",
       "TTTGTTGCATTGCCGG-1     3442      0.105349   12207.0   PBMC5k            0   \n",
       "\n",
       "                    _scvi_labels  _scvi_local_l_mean  _scvi_local_l_var  \n",
       "index                                                                    \n",
       "AAACCCAAGATTGTGA-1             0            6.824571           0.670148  \n",
       "AAACCCACATCGGTTA-1             0            6.824571           0.670148  \n",
       "AAACCCAGTACCGCGT-1             0            6.824571           0.670148  \n",
       "AAACCCAGTATCGAAA-1             0            6.824571           0.670148  \n",
       "AAACCCAGTCGTCATA-1             0            6.824571           0.670148  \n",
       "...                          ...                 ...                ...  \n",
       "TTTGGTTGTACGAGTG-1             0            6.824571           0.670148  \n",
       "TTTGTTGAGTTAACAG-1             0            6.824571           0.670148  \n",
       "TTTGTTGCAGCACAAG-1             0            6.824571           0.670148  \n",
       "TTTGTTGCAGTCTTCC-1             0            6.824571           0.670148  \n",
       "TTTGTTGCATTGCCGG-1             0            6.824571           0.670148  \n",
       "\n",
       "[10849 rows x 8 columns]"
      ]
     },
     "execution_count": 15,
     "metadata": {},
     "output_type": "execute_result"
    }
   ],
   "source": [
    "adata.obs"
   ]
  },
  {
   "cell_type": "code",
   "execution_count": null,
   "metadata": {},
   "outputs": [],
   "source": []
  }
 ],
 "metadata": {
  "kernelspec": {
   "display_name": "Python 3",
   "language": "python",
   "name": "python3"
  },
  "language_info": {
   "codemirror_mode": {
    "name": "ipython",
    "version": 3
   },
   "file_extension": ".py",
   "mimetype": "text/x-python",
   "name": "python",
   "nbconvert_exporter": "python",
   "pygments_lexer": "ipython3",
   "version": "3.8.5"
  }
 },
 "nbformat": 4,
 "nbformat_minor": 4
}
